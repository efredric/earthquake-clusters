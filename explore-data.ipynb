{
 "cells": [
  {
   "cell_type": "code",
   "execution_count": 1,
   "metadata": {
    "collapsed": true
   },
   "outputs": [],
   "source": [
    "%matplotlib inline\n",
    "import numpy as np\n",
    "import scipy as sp\n",
    "import json\n",
    "import matplotlib as mpl\n",
    "import matplotlib.cm as cm\n",
    "import matplotlib.pyplot as plt\n",
    "import pandas as pd\n",
    "from pyquery import PyQuery as pq\n",
    "import requests\n",
    "pd.set_option('display.width', 500)\n",
    "pd.set_option('display.max_columns', 100)\n",
    "pd.set_option('display.notebook_repr_html', True)\n",
    "import seaborn as sns\n",
    "sns.set_style(\"whitegrid\")\n",
    "sns.set_context(\"poster\")"
   ]
  },
  {
   "cell_type": "code",
   "execution_count": 2,
   "metadata": {
    "collapsed": false
   },
   "outputs": [],
   "source": [
    "# Load the data from website - just start with 2015\n",
    "url = 'http://wichita.ogs.ou.edu/eq/catalog/2015/2015.json'\n",
    "# Create a dictionary\n",
    "catalog = requests.get(url).json()"
   ]
  },
  {
   "cell_type": "code",
   "execution_count": 3,
   "metadata": {
    "collapsed": true
   },
   "outputs": [],
   "source": [
    "# dump data into catalog.json into tempdata folder. Easier to work in local repo\n",
    "fd=open(\"tempdata/catalog.json\",\"w\")\n",
    "json.dump(catalog, fd)\n",
    "fd.close()"
   ]
  },
  {
   "cell_type": "code",
   "execution_count": 72,
   "metadata": {
    "collapsed": false
   },
   "outputs": [
    {
     "data": {
      "text/html": [
       "<div>\n",
       "<table border=\"1\" class=\"dataframe\">\n",
       "  <thead>\n",
       "    <tr style=\"text-align: right;\">\n",
       "      <th></th>\n",
       "      <th>county</th>\n",
       "      <th>depth</th>\n",
       "      <th>err_depth</th>\n",
       "      <th>err_lat</th>\n",
       "      <th>err_lon</th>\n",
       "      <th>err_origintime</th>\n",
       "      <th>id</th>\n",
       "      <th>latitude</th>\n",
       "      <th>longitude</th>\n",
       "      <th>m3hz_ogs</th>\n",
       "      <th>max_mmi</th>\n",
       "      <th>mb</th>\n",
       "      <th>mblg_ogs</th>\n",
       "      <th>mblg_usgs</th>\n",
       "      <th>md_ogs</th>\n",
       "      <th>mfa</th>\n",
       "      <th>ml_ogs</th>\n",
       "      <th>ms</th>\n",
       "      <th>mw</th>\n",
       "      <th>mw_ogs</th>\n",
       "      <th>mw_src</th>\n",
       "      <th>origin_src</th>\n",
       "      <th>origintime</th>\n",
       "      <th>pdlid</th>\n",
       "      <th>pmag_src</th>\n",
       "      <th>pmag_type</th>\n",
       "      <th>prefmag</th>\n",
       "      <th>reafile</th>\n",
       "      <th>reamtime</th>\n",
       "    </tr>\n",
       "  </thead>\n",
       "  <tbody>\n",
       "    <tr>\n",
       "      <th>15853</th>\n",
       "      <td>NOBLE</td>\n",
       "      <td>5.613</td>\n",
       "      <td>2.0</td>\n",
       "      <td>0.7</td>\n",
       "      <td>1.1</td>\n",
       "      <td>0.46</td>\n",
       "      <td>15853</td>\n",
       "      <td>36.36558</td>\n",
       "      <td>-97.07604</td>\n",
       "      <td>None</td>\n",
       "      <td>0</td>\n",
       "      <td>None</td>\n",
       "      <td>None</td>\n",
       "      <td>None</td>\n",
       "      <td>None</td>\n",
       "      <td>None</td>\n",
       "      <td>2</td>\n",
       "      <td>None</td>\n",
       "      <td>None</td>\n",
       "      <td>None</td>\n",
       "      <td>None</td>\n",
       "      <td>OGS</td>\n",
       "      <td>2015/01/01 00:15:49</td>\n",
       "      <td>None</td>\n",
       "      <td>OGS</td>\n",
       "      <td>ML</td>\n",
       "      <td>2.0</td>\n",
       "      <td>/home/analyst/REA/OGS__/2015/01/01-0015-03L.S2...</td>\n",
       "      <td>2015/01/07 19:30:10</td>\n",
       "    </tr>\n",
       "    <tr>\n",
       "      <th>15749</th>\n",
       "      <td>GRANT</td>\n",
       "      <td>5.319</td>\n",
       "      <td>1.6</td>\n",
       "      <td>0.5</td>\n",
       "      <td>0.8</td>\n",
       "      <td>0.26</td>\n",
       "      <td>15749</td>\n",
       "      <td>36.65577</td>\n",
       "      <td>-97.63476</td>\n",
       "      <td>None</td>\n",
       "      <td>0</td>\n",
       "      <td>None</td>\n",
       "      <td>None</td>\n",
       "      <td>None</td>\n",
       "      <td>None</td>\n",
       "      <td>None</td>\n",
       "      <td>3</td>\n",
       "      <td>None</td>\n",
       "      <td>None</td>\n",
       "      <td>None</td>\n",
       "      <td>None</td>\n",
       "      <td>OGS</td>\n",
       "      <td>2015/01/01 00:26:09</td>\n",
       "      <td>10197</td>\n",
       "      <td>OGS</td>\n",
       "      <td>ML</td>\n",
       "      <td>3.0</td>\n",
       "      <td>/home/analyst/REA/OGS__/2015/01/01-0025-34L.S2...</td>\n",
       "      <td>2015/01/01 15:23:22</td>\n",
       "    </tr>\n",
       "    <tr>\n",
       "      <th>15854</th>\n",
       "      <td>GRANT</td>\n",
       "      <td>5.414</td>\n",
       "      <td>2.0</td>\n",
       "      <td>0.6</td>\n",
       "      <td>1.1</td>\n",
       "      <td>0.40</td>\n",
       "      <td>15854</td>\n",
       "      <td>36.67116</td>\n",
       "      <td>-97.61475</td>\n",
       "      <td>None</td>\n",
       "      <td>0</td>\n",
       "      <td>None</td>\n",
       "      <td>None</td>\n",
       "      <td>None</td>\n",
       "      <td>None</td>\n",
       "      <td>None</td>\n",
       "      <td>2.5</td>\n",
       "      <td>None</td>\n",
       "      <td>None</td>\n",
       "      <td>None</td>\n",
       "      <td>None</td>\n",
       "      <td>OGS</td>\n",
       "      <td>2015/01/01 04:40:19</td>\n",
       "      <td>10287</td>\n",
       "      <td>OGS</td>\n",
       "      <td>ML</td>\n",
       "      <td>2.5</td>\n",
       "      <td>/home/analyst/REA/OGS__/2015/01/01-0439-53L.S2...</td>\n",
       "      <td>2015/01/07 19:41:46</td>\n",
       "    </tr>\n",
       "    <tr>\n",
       "      <th>15855</th>\n",
       "      <td>GRANT</td>\n",
       "      <td>6.829</td>\n",
       "      <td>1.5</td>\n",
       "      <td>0.7</td>\n",
       "      <td>0.9</td>\n",
       "      <td>0.39</td>\n",
       "      <td>15855</td>\n",
       "      <td>36.93193</td>\n",
       "      <td>-97.49207</td>\n",
       "      <td>None</td>\n",
       "      <td>0</td>\n",
       "      <td>None</td>\n",
       "      <td>None</td>\n",
       "      <td>None</td>\n",
       "      <td>None</td>\n",
       "      <td>None</td>\n",
       "      <td>2.6</td>\n",
       "      <td>None</td>\n",
       "      <td>None</td>\n",
       "      <td>None</td>\n",
       "      <td>None</td>\n",
       "      <td>OGS</td>\n",
       "      <td>2015/01/01 08:35:23</td>\n",
       "      <td>10288</td>\n",
       "      <td>OGS</td>\n",
       "      <td>ML</td>\n",
       "      <td>2.6</td>\n",
       "      <td>/home/analyst/REA/OGS__/2015/01/01-0835-02L.S2...</td>\n",
       "      <td>2015/01/07 20:00:49</td>\n",
       "    </tr>\n",
       "    <tr>\n",
       "      <th>15856</th>\n",
       "      <td>NOBLE</td>\n",
       "      <td>8.014</td>\n",
       "      <td>5.8</td>\n",
       "      <td>0.9</td>\n",
       "      <td>1.6</td>\n",
       "      <td>0.78</td>\n",
       "      <td>15856</td>\n",
       "      <td>36.35529</td>\n",
       "      <td>-97.35852</td>\n",
       "      <td>None</td>\n",
       "      <td>0</td>\n",
       "      <td>None</td>\n",
       "      <td>None</td>\n",
       "      <td>None</td>\n",
       "      <td>None</td>\n",
       "      <td>None</td>\n",
       "      <td>2.2</td>\n",
       "      <td>None</td>\n",
       "      <td>None</td>\n",
       "      <td>None</td>\n",
       "      <td>None</td>\n",
       "      <td>OGS</td>\n",
       "      <td>2015/01/01 11:11:10</td>\n",
       "      <td>10289</td>\n",
       "      <td>OGS</td>\n",
       "      <td>ML</td>\n",
       "      <td>2.2</td>\n",
       "      <td>/home/analyst/REA/OGS__/2015/01/01-1110-39L.S2...</td>\n",
       "      <td>2015/01/07 20:17:44</td>\n",
       "    </tr>\n",
       "  </tbody>\n",
       "</table>\n",
       "</div>"
      ],
      "text/plain": [
       "      county  depth  err_depth  err_lat  err_lon  err_origintime     id  latitude  longitude m3hz_ogs  max_mmi    mb mblg_ogs mblg_usgs md_ogs   mfa ml_ogs    ms    mw mw_ogs mw_src origin_src           origintime  pdlid pmag_src pmag_type  prefmag                                            reafile             reamtime\n",
       "15853  NOBLE  5.613        2.0      0.7      1.1            0.46  15853  36.36558  -97.07604     None        0  None     None      None   None  None      2  None  None   None   None        OGS  2015/01/01 00:15:49   None      OGS        ML      2.0  /home/analyst/REA/OGS__/2015/01/01-0015-03L.S2...  2015/01/07 19:30:10\n",
       "15749  GRANT  5.319        1.6      0.5      0.8            0.26  15749  36.65577  -97.63476     None        0  None     None      None   None  None      3  None  None   None   None        OGS  2015/01/01 00:26:09  10197      OGS        ML      3.0  /home/analyst/REA/OGS__/2015/01/01-0025-34L.S2...  2015/01/01 15:23:22\n",
       "15854  GRANT  5.414        2.0      0.6      1.1            0.40  15854  36.67116  -97.61475     None        0  None     None      None   None  None    2.5  None  None   None   None        OGS  2015/01/01 04:40:19  10287      OGS        ML      2.5  /home/analyst/REA/OGS__/2015/01/01-0439-53L.S2...  2015/01/07 19:41:46\n",
       "15855  GRANT  6.829        1.5      0.7      0.9            0.39  15855  36.93193  -97.49207     None        0  None     None      None   None  None    2.6  None  None   None   None        OGS  2015/01/01 08:35:23  10288      OGS        ML      2.6  /home/analyst/REA/OGS__/2015/01/01-0835-02L.S2...  2015/01/07 20:00:49\n",
       "15856  NOBLE  8.014        5.8      0.9      1.6            0.78  15856  36.35529  -97.35852     None        0  None     None      None   None  None    2.2  None  None   None   None        OGS  2015/01/01 11:11:10  10289      OGS        ML      2.2  /home/analyst/REA/OGS__/2015/01/01-1110-39L.S2...  2015/01/07 20:17:44"
      ]
     },
     "execution_count": 72,
     "metadata": {},
     "output_type": "execute_result"
    }
   ],
   "source": [
    "# Create a data frame with properties of earthquakes in 2015. Indexes are their ids.\n",
    "df = pd.DataFrame()\n",
    "\n",
    "for i in range(0 ,len(catalog['features']) ):\n",
    "    ea = catalog['features'][i]['properties']\n",
    "    df_new  = pd.DataFrame(ea, index = [ea['id']])\n",
    "    # concatenate\n",
    "    df = df.append(df_new)\n",
    "df.head()"
   ]
  },
  {
   "cell_type": "code",
   "execution_count": 91,
   "metadata": {
    "collapsed": false,
    "scrolled": true
   },
   "outputs": [
    {
     "data": {
      "text/plain": [
       "<matplotlib.axes._subplots.AxesSubplot at 0x1198a7410>"
      ]
     },
     "execution_count": 91,
     "metadata": {},
     "output_type": "execute_result"
    },
    {
     "data": {
      "image/png": "[encoded data removed]",
      "text/plain": [
       "<matplotlib.figure.Figure at 0x117644850>"
      ]
     },
     "metadata": {},
     "output_type": "display_data"
    }
   ],
   "source": [
    "# Plot the distribution of earthquake depth in Oklahoma in 2015\n",
    "df.depth.hist(bins = np.arange(0,25,0.1))"
   ]
  },
  {
   "cell_type": "code",
   "execution_count": null,
   "metadata": {
    "collapsed": true
   },
   "outputs": [],
   "source": []
  }
 ],
 "metadata": {
  "kernelspec": {
   "display_name": "Python 2",
   "language": "python",
   "name": "python2"
  },
  "language_info": {
   "codemirror_mode": {
    "name": "ipython",
    "version": 2
   },
   "file_extension": ".py",
   "mimetype": "text/x-python",
   "name": "python",
   "nbconvert_exporter": "python",
   "pygments_lexer": "ipython2",
   "version": "2.7.10"
  }
 },
 "nbformat": 4,
 "nbformat_minor": 0
}
