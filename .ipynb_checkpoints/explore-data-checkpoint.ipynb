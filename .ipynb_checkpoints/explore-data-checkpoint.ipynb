{
 "cells": [
  {
   "cell_type": "code",
   "execution_count": 63,
   "metadata": {
    "collapsed": false
   },
   "outputs": [],
   "source": [
    "%matplotlib inline\n",
    "import numpy as np\n",
    "import scipy as sp\n",
    "import json\n",
    "import matplotlib as mpl\n",
    "import matplotlib.cm as cm\n",
    "import matplotlib.pyplot as plt\n",
    "import pandas as pd\n",
    "from pyquery import PyQuery as pq\n",
    "import requests\n",
    "pd.set_option('display.width', 500)\n",
    "pd.set_option('display.max_columns', 100)\n",
    "pd.set_option('display.notebook_repr_html', True)\n",
    "import seaborn as sns\n",
    "sns.set_style(\"whitegrid\")\n",
    "sns.set_context(\"poster\")"
   ]
  },
  {
   "cell_type": "code",
   "execution_count": 2,
   "metadata": {
    "collapsed": false
   },
   "outputs": [],
   "source": [
    "# LOAD WITH JSON FILE and create Data Frame\n",
    "\n",
    "# DO NOT NEED TO BE RAN ANYMORE\n",
    "\n",
    "# Load the data from website http://www.okgeosurvey1.gov/pages/earthquakes/catalogs.php\n",
    "url = 'http://wichita.ogs.ou.edu/eq/catalog/2015/2015.json'\n",
    "# Create a dictionary\n",
    "catalog = requests.get(url).json()\n",
    "\n",
    "# Create a data frame with properties of earthquakes in 2015. Indexes are their ids.\n",
    "df = pd.DataFrame()\n",
    "\n",
    "for i in range(0 ,len(catalog['features']) ):\n",
    "    ea = catalog['features'][i]['properties']\n",
    "    df_new  = pd.DataFrame(ea, index = [ea['id']])\n",
    "    # concatenate\n",
    "    df = df.append(df_new)\n",
    "df.head()\n",
    "\n",
    "# dump dataframe into json file\n",
    "fd=open(\"tempdata/df.json\",\"w\")\n",
    "json.dump(df.to_json() , fd)\n",
    "fd.close()"
   ]
  },
  {
   "cell_type": "code",
   "execution_count": 60,
   "metadata": {
    "collapsed": false
   },
   "outputs": [
    {
     "data": {
      "text/html": [
       "<div>\n",
       "<table border=\"1\" class=\"dataframe\">\n",
       "  <thead>\n",
       "    <tr style=\"text-align: right;\">\n",
       "      <th></th>\n",
       "      <th>county</th>\n",
       "      <th>depth</th>\n",
       "      <th>err_depth</th>\n",
       "      <th>err_lat</th>\n",
       "      <th>err_lon</th>\n",
       "      <th>err_origintime</th>\n",
       "      <th>id</th>\n",
       "      <th>latitude</th>\n",
       "      <th>longitude</th>\n",
       "      <th>m3hz_ogs</th>\n",
       "      <th>max_mmi</th>\n",
       "      <th>mb</th>\n",
       "      <th>mblg_ogs</th>\n",
       "      <th>mblg_usgs</th>\n",
       "      <th>md_ogs</th>\n",
       "      <th>mfa</th>\n",
       "      <th>ml_ogs</th>\n",
       "      <th>ms</th>\n",
       "      <th>mw</th>\n",
       "      <th>mw_ogs</th>\n",
       "      <th>mw_src</th>\n",
       "      <th>origin_src</th>\n",
       "      <th>origintime</th>\n",
       "      <th>pdlid</th>\n",
       "      <th>pmag_src</th>\n",
       "      <th>pmag_type</th>\n",
       "      <th>prefmag</th>\n",
       "      <th>reafile</th>\n",
       "      <th>reamtime</th>\n",
       "    </tr>\n",
       "  </thead>\n",
       "  <tbody>\n",
       "    <tr>\n",
       "      <th>15749</th>\n",
       "      <td>GRANT</td>\n",
       "      <td>5.319</td>\n",
       "      <td>1.6</td>\n",
       "      <td>0.5</td>\n",
       "      <td>0.8</td>\n",
       "      <td>0.26</td>\n",
       "      <td>15749</td>\n",
       "      <td>36.65577</td>\n",
       "      <td>-97.63476</td>\n",
       "      <td>NaN</td>\n",
       "      <td>0</td>\n",
       "      <td>NaN</td>\n",
       "      <td>NaN</td>\n",
       "      <td>NaN</td>\n",
       "      <td>NaN</td>\n",
       "      <td>NaN</td>\n",
       "      <td>3.0</td>\n",
       "      <td>NaN</td>\n",
       "      <td>NaN</td>\n",
       "      <td>NaN</td>\n",
       "      <td>None</td>\n",
       "      <td>OGS</td>\n",
       "      <td>2015/01/01 00:26:09</td>\n",
       "      <td>10197</td>\n",
       "      <td>OGS</td>\n",
       "      <td>ML</td>\n",
       "      <td>3.0</td>\n",
       "      <td>/home/analyst/REA/OGS__/2015/01/01-0025-34L.S2...</td>\n",
       "      <td>2015/01/01 15:23:22</td>\n",
       "    </tr>\n",
       "    <tr>\n",
       "      <th>15750</th>\n",
       "      <td>ALFALFA</td>\n",
       "      <td>5.566</td>\n",
       "      <td>1.8</td>\n",
       "      <td>0.6</td>\n",
       "      <td>1.1</td>\n",
       "      <td>0.33</td>\n",
       "      <td>15750</td>\n",
       "      <td>36.73006</td>\n",
       "      <td>-98.30553</td>\n",
       "      <td>NaN</td>\n",
       "      <td>0</td>\n",
       "      <td>NaN</td>\n",
       "      <td>NaN</td>\n",
       "      <td>NaN</td>\n",
       "      <td>NaN</td>\n",
       "      <td>NaN</td>\n",
       "      <td>3.1</td>\n",
       "      <td>NaN</td>\n",
       "      <td>NaN</td>\n",
       "      <td>NaN</td>\n",
       "      <td>None</td>\n",
       "      <td>OGS</td>\n",
       "      <td>2015/01/02 09:23:24</td>\n",
       "      <td>10198</td>\n",
       "      <td>OGS</td>\n",
       "      <td>ML</td>\n",
       "      <td>3.1</td>\n",
       "      <td>/home/analyst/REA/OGS__/2015/01/02-0922-57L.S2...</td>\n",
       "      <td>2015/01/02 16:40:02</td>\n",
       "    </tr>\n",
       "    <tr>\n",
       "      <th>15751</th>\n",
       "      <td>ALFALFA</td>\n",
       "      <td>6.652</td>\n",
       "      <td>1.2</td>\n",
       "      <td>0.5</td>\n",
       "      <td>1.4</td>\n",
       "      <td>0.34</td>\n",
       "      <td>15751</td>\n",
       "      <td>36.88855</td>\n",
       "      <td>-98.23989</td>\n",
       "      <td>NaN</td>\n",
       "      <td>0</td>\n",
       "      <td>NaN</td>\n",
       "      <td>NaN</td>\n",
       "      <td>NaN</td>\n",
       "      <td>NaN</td>\n",
       "      <td>NaN</td>\n",
       "      <td>3.1</td>\n",
       "      <td>NaN</td>\n",
       "      <td>NaN</td>\n",
       "      <td>NaN</td>\n",
       "      <td>None</td>\n",
       "      <td>OGS</td>\n",
       "      <td>2015/01/02 00:19:33</td>\n",
       "      <td>10199</td>\n",
       "      <td>OGS</td>\n",
       "      <td>ML</td>\n",
       "      <td>3.1</td>\n",
       "      <td>/home/analyst/REA/OGS__/2015/01/02-0018-54L.S2...</td>\n",
       "      <td>2015/01/02 16:58:00</td>\n",
       "    </tr>\n",
       "    <tr>\n",
       "      <th>15752</th>\n",
       "      <td>PAWNEE</td>\n",
       "      <td>4.005</td>\n",
       "      <td>1.8</td>\n",
       "      <td>0.6</td>\n",
       "      <td>0.9</td>\n",
       "      <td>0.40</td>\n",
       "      <td>15752</td>\n",
       "      <td>36.28591</td>\n",
       "      <td>-96.89887</td>\n",
       "      <td>NaN</td>\n",
       "      <td>0</td>\n",
       "      <td>NaN</td>\n",
       "      <td>NaN</td>\n",
       "      <td>NaN</td>\n",
       "      <td>NaN</td>\n",
       "      <td>NaN</td>\n",
       "      <td>3.0</td>\n",
       "      <td>NaN</td>\n",
       "      <td>NaN</td>\n",
       "      <td>NaN</td>\n",
       "      <td>None</td>\n",
       "      <td>OGS</td>\n",
       "      <td>2015/01/02 16:52:28</td>\n",
       "      <td>10200</td>\n",
       "      <td>OGS</td>\n",
       "      <td>ML</td>\n",
       "      <td>3.0</td>\n",
       "      <td>/home/analyst/REA/OGS__/2015/01/02-1651-47L.S2...</td>\n",
       "      <td>2015/01/02 18:33:51</td>\n",
       "    </tr>\n",
       "    <tr>\n",
       "      <th>15753</th>\n",
       "      <td>GRANT</td>\n",
       "      <td>6.076</td>\n",
       "      <td>1.4</td>\n",
       "      <td>0.7</td>\n",
       "      <td>0.9</td>\n",
       "      <td>0.34</td>\n",
       "      <td>15753</td>\n",
       "      <td>36.84657</td>\n",
       "      <td>-97.81370</td>\n",
       "      <td>NaN</td>\n",
       "      <td>2</td>\n",
       "      <td>NaN</td>\n",
       "      <td>NaN</td>\n",
       "      <td>NaN</td>\n",
       "      <td>NaN</td>\n",
       "      <td>NaN</td>\n",
       "      <td>3.4</td>\n",
       "      <td>NaN</td>\n",
       "      <td>NaN</td>\n",
       "      <td>NaN</td>\n",
       "      <td>None</td>\n",
       "      <td>OGS</td>\n",
       "      <td>2015/01/03 12:16:30</td>\n",
       "      <td>11028</td>\n",
       "      <td>OGS</td>\n",
       "      <td>ML</td>\n",
       "      <td>3.4</td>\n",
       "      <td>/home/analyst/REA/OGS__/2015/01/03-1216-07L.S2...</td>\n",
       "      <td>2015/01/14 15:15:10</td>\n",
       "    </tr>\n",
       "  </tbody>\n",
       "</table>\n",
       "</div>"
      ],
      "text/plain": [
       "        county  depth  err_depth  err_lat  err_lon  err_origintime     id  latitude  longitude  m3hz_ogs  max_mmi  mb  mblg_ogs  mblg_usgs  md_ogs  mfa  ml_ogs  ms  mw  mw_ogs mw_src origin_src           origintime  pdlid pmag_src pmag_type  prefmag                                            reafile             reamtime\n",
       "15749    GRANT  5.319        1.6      0.5      0.8            0.26  15749  36.65577  -97.63476       NaN        0 NaN       NaN        NaN     NaN  NaN     3.0 NaN NaN     NaN   None        OGS  2015/01/01 00:26:09  10197      OGS        ML      3.0  /home/analyst/REA/OGS__/2015/01/01-0025-34L.S2...  2015/01/01 15:23:22\n",
       "15750  ALFALFA  5.566        1.8      0.6      1.1            0.33  15750  36.73006  -98.30553       NaN        0 NaN       NaN        NaN     NaN  NaN     3.1 NaN NaN     NaN   None        OGS  2015/01/02 09:23:24  10198      OGS        ML      3.1  /home/analyst/REA/OGS__/2015/01/02-0922-57L.S2...  2015/01/02 16:40:02\n",
       "15751  ALFALFA  6.652        1.2      0.5      1.4            0.34  15751  36.88855  -98.23989       NaN        0 NaN       NaN        NaN     NaN  NaN     3.1 NaN NaN     NaN   None        OGS  2015/01/02 00:19:33  10199      OGS        ML      3.1  /home/analyst/REA/OGS__/2015/01/02-0018-54L.S2...  2015/01/02 16:58:00\n",
       "15752   PAWNEE  4.005        1.8      0.6      0.9            0.40  15752  36.28591  -96.89887       NaN        0 NaN       NaN        NaN     NaN  NaN     3.0 NaN NaN     NaN   None        OGS  2015/01/02 16:52:28  10200      OGS        ML      3.0  /home/analyst/REA/OGS__/2015/01/02-1651-47L.S2...  2015/01/02 18:33:51\n",
       "15753    GRANT  6.076        1.4      0.7      0.9            0.34  15753  36.84657  -97.81370       NaN        2 NaN       NaN        NaN     NaN  NaN     3.4 NaN NaN     NaN   None        OGS  2015/01/03 12:16:30  11028      OGS        ML      3.4  /home/analyst/REA/OGS__/2015/01/03-1216-07L.S2...  2015/01/14 15:15:10"
      ]
     },
     "execution_count": 60,
     "metadata": {},
     "output_type": "execute_result"
    }
   ],
   "source": [
    "# IMPORT THE DATA FRAME FROM 2015\n",
    "import json\n",
    "with open(\"tempdata/df.json\") as json_file:\n",
    "     df = json.load(json_file)\n",
    "df = pd.read_json(df)\n",
    "df.head()"
   ]
  },
  {
   "cell_type": "code",
   "execution_count": 78,
   "metadata": {
    "collapsed": false,
    "scrolled": true
   },
   "outputs": [
    {
     "data": {
      "text/plain": [
       "<matplotlib.axes._subplots.AxesSubplot at 0x11c6c4710>"
      ]
     },
     "execution_count": 78,
     "metadata": {},
     "output_type": "execute_result"
    },
    {
     "data": {
      "image/png": "[encoded data removed]",
      "text/plain": [
       "<matplotlib.figure.Figure at 0x11c6c4e10>"
      ]
     },
     "metadata": {},
     "output_type": "display_data"
    }
   ],
   "source": [
    "# Plot the distribution of earthquake depth in Oklahoma in 2015\n",
    "fig = plt.figure()\n",
    "ax = fig.add_subplot(1,1,1)\n",
    "df.depth.hist(bins = np.arange(0,25,0.1), figsize = (15,5) )\n"
   ]
  },
  {
   "cell_type": "code",
   "execution_count": 79,
   "metadata": {
    "collapsed": false
   },
   "outputs": [
    {
     "data": {
      "text/plain": [
       "<matplotlib.axes._subplots.AxesSubplot at 0x11e2876d0>"
      ]
     },
     "execution_count": 79,
     "metadata": {},
     "output_type": "execute_result"
    },
    {
     "data": {
      "image/png": "[encoded data removed]",
      "text/plain": [
       "<matplotlib.figure.Figure at 0x10ec30a90>"
      ]
     },
     "metadata": {},
     "output_type": "display_data"
    }
   ],
   "source": [
    "fig = plt.figure()\n",
    "ax = fig.add_subplot(1,1,1)\n",
    "df.prefmag.hist(bins = np.arange(0,25,0.1), figsize = (15,5) )"
   ]
  },
  {
   "cell_type": "code",
   "execution_count": 85,
   "metadata": {
    "collapsed": false
   },
   "outputs": [
    {
     "data": {
      "text/plain": [
       "unicode"
      ]
     },
     "execution_count": 85,
     "metadata": {},
     "output_type": "execute_result"
    }
   ],
   "source": [
    "# LOAD WITH CSV FILE\n",
    "\n",
    "# Load the data from website http://www.okgeosurvey1.gov/pages/earthquakes/catalogs.php\n",
    "url = 'http://wichita.ogs.ou.edu/eq/catalog/2015/2015.csv'\n",
    "# Create a dictionary\n",
    "catalog = requests.get(url).text\n",
    "type(catalog)"
   ]
  },
  {
   "cell_type": "code",
   "execution_count": 84,
   "metadata": {
    "collapsed": false
   },
   "outputs": [],
   "source": [
    "#pd.DataFrame.from_csv(catalog)"
   ]
  },
  {
   "cell_type": "code",
   "execution_count": null,
   "metadata": {
    "collapsed": true
   },
   "outputs": [],
   "source": []
  }
 ],
 "metadata": {
  "kernelspec": {
   "display_name": "Python 2",
   "language": "python",
   "name": "python2"
  },
  "language_info": {
   "codemirror_mode": {
    "name": "ipython",
    "version": 2
   },
   "file_extension": ".py",
   "mimetype": "text/x-python",
   "name": "python",
   "nbconvert_exporter": "python",
   "pygments_lexer": "ipython2",
   "version": "2.7.10"
  }
 },
 "nbformat": 4,
 "nbformat_minor": 0
}
